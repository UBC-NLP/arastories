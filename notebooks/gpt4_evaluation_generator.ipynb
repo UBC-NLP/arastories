{
 "cells": [
  {
   "cell_type": "code",
   "execution_count": 1,
   "metadata": {},
   "outputs": [],
   "source": [
    "import csv\n",
    "import json\n",
    "\n",
    "def convert_csv_to_openai_jsonl(csv_file: str, jsonl_file: str, model_name: str = \"gpt-4-0125-preview\"):\n",
    "    \"\"\"\n",
    "    Convert prompts in a CSV file to OpenAI API formatted JSONL.\n",
    "\n",
    "    Args:\n",
    "        csv_file (str): Path to the input CSV file containing prompts.\n",
    "        jsonl_file (str): Path to the output JSONL file.\n",
    "        model_name (str): The model name to include in the OpenAI API request. Defaults to \"gpt-4-0125-preview\".\n",
    "    \"\"\"\n",
    "    # Read the CSV file and format the data for OpenAI API\n",
    "    with open(csv_file, mode='r', encoding='utf-8') as file:\n",
    "        reader = csv.DictReader(file)\n",
    "        formatted_prompts = []\n",
    "        for row in reader:\n",
    "            prompt_content = row.get('prompt_plus_story', '')\n",
    "            prompt_content = \"\"\"\n",
    "            You are an expert in Arabic language, its dialects, and storytelling. I would like your help in evaluating a story written by a student based on a set of instructions. You are expected to give a score out of five based on the following features:\n",
    "            **Fluency:** How smooth and natural the text is, including appropriate grammar, vocabulary, and sentence structure.\n",
    "            **Coherence:** The logical connection and flow of sentences and ideas, making the text easy to understand.\n",
    "            **Following Instructions:** How well the text adheres to the provided instructions or task requirements.\n",
    "            **Consistency:** How consistently accurate and uniform the information and style are throughout the text.\n",
    "            **Variety:** How well does the model generate story in the required Arabic variety.\n",
    "            Give the scores directly without explanations or additions. I will first give you the instructions on which the story was based, followed by the story written by the student. Remember, I want the evaluation directly without explanation.\n",
    "            \n",
    "            \"\"\"+prompt_content\n",
    "            # Structure as OpenAI expects\n",
    "            formatted_prompt = {\n",
    "                \"model\": model_name,\n",
    "                \"messages\": [\n",
    "                    {\n",
    "                        \"role\": \"user\",\n",
    "                        \"content\": prompt_content\n",
    "                    }\n",
    "                ]\n",
    "            }\n",
    "            formatted_prompts.append(formatted_prompt)\n",
    "\n",
    "    # Save the formatted prompts to a JSONL file\n",
    "    with open(jsonl_file, mode='w', encoding='utf-8') as file:\n",
    "        for prompt in formatted_prompts:\n",
    "            file.write(json.dumps(prompt, ensure_ascii=False) + '\\n')\n",
    "\n",
    "    print(f\"Formatted prompts have been saved to {jsonl_file}\")\n",
    "\n",
    "# Example Usage\n",
    "#convert_csv_to_openai_jsonl('./Formatted-Moroccan-prompts-for-eval-acegpt-7b-chat-stories-results.csv', './Formatted-Moroccan-prompts-for-eval-acegpt-7b-chat-stories-results.jsonl')\n"
   ]
  },
  {
   "cell_type": "code",
   "execution_count": null,
   "metadata": {},
   "outputs": [],
   "source": []
  }
 ],
 "metadata": {
  "kernelspec": {
   "display_name": "MBZUAI",
   "language": "python",
   "name": "python3"
  },
  "language_info": {
   "codemirror_mode": {
    "name": "ipython",
    "version": 3
   },
   "file_extension": ".py",
   "mimetype": "text/x-python",
   "name": "python",
   "nbconvert_exporter": "python",
   "pygments_lexer": "ipython3",
   "version": "3.11.5"
  },
  "orig_nbformat": 4
 },
 "nbformat": 4,
 "nbformat_minor": 2
}
